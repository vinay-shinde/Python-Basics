{
  "nbformat": 4,
  "nbformat_minor": 0,
  "metadata": {
    "colab": {
      "provenance": [],
      "authorship_tag": "ABX9TyP5m/t+InfrMxejDV69UCaT",
      "include_colab_link": true
    },
    "kernelspec": {
      "name": "python3",
      "display_name": "Python 3"
    },
    "language_info": {
      "name": "python"
    }
  },
  "cells": [
    {
      "cell_type": "markdown",
      "metadata": {
        "id": "view-in-github",
        "colab_type": "text"
      },
      "source": [
        "<a href=\"https://colab.research.google.com/github/vinay-shinde/Python-Basics/blob/main/Assignment_4.ipynb\" target=\"_parent\"><img src=\"https://colab.research.google.com/assets/colab-badge.svg\" alt=\"Open In Colab\"/></a>"
      ]
    },
    {
      "cell_type": "markdown",
      "source": [
        "# 1. What exactly is []?\n",
        "\n",
        "- The empty list represented by [] is a list that contains no items. \n",
        "\n",
        "- [  ] if it contain values then it is used to store list values of same or different datatypes"
      ],
      "metadata": {
        "id": "jdY9Px006X2W"
      }
    },
    {
      "cell_type": "markdown",
      "source": [
        "# 2. In a list of values stored in a variable called spam, how would you assign the value 'hello' as the third value? (Assume [2, 4, 6, 8, 10] are in spam.)"
      ],
      "metadata": {
        "id": "fbnItmsh61YT"
      }
    },
    {
      "cell_type": "code",
      "source": [
        "spam =  [2, 4, 6, 8, 10]\n",
        "print(spam)       #printing original spam list\n",
        "spam[2]=\"hello\"   #\"adding \"hello\" string to the 'spam' list\n",
        "print(spam)       #printing updated spam list"
      ],
      "metadata": {
        "colab": {
          "base_uri": "https://localhost:8080/"
        },
        "id": "sKocF-ZO681c",
        "outputId": "d812369f-ba0a-4924-f49a-e27cd446f868"
      },
      "execution_count": 1,
      "outputs": [
        {
          "output_type": "stream",
          "name": "stdout",
          "text": [
            "[2, 4, 6, 8, 10]\n",
            "[2, 4, 'hello', 8, 10]\n"
          ]
        }
      ]
    },
    {
      "cell_type": "markdown",
      "source": [
        "#Let's pretend the spam includes the list ['a', 'b', 'c', 'd'] for the next three queries."
      ],
      "metadata": {
        "id": "brZhrm6Q8jRm"
      }
    },
    {
      "cell_type": "markdown",
      "source": [
        "#  3. What is the value of spam[int(int('3' * 2) / 11)]?\n",
        "\n",
        "\n",
        "Here '3' is a string and int('3'*2) will give int 33, and int(33/11) will give output 3.\n",
        "\n",
        "And spam[3] will give output as 'd'(at 3rd index value)."
      ],
      "metadata": {
        "id": "mpjPJU1173IZ"
      }
    },
    {
      "cell_type": "code",
      "source": [
        "spam=['a','b','c','d']\n",
        "print(spam[int(int('3'*2)/11)])"
      ],
      "metadata": {
        "colab": {
          "base_uri": "https://localhost:8080/"
        },
        "id": "c4QmHCm1_xDQ",
        "outputId": "9f64c92d-ef62-4007-d841-14845490e6e9"
      },
      "execution_count": 9,
      "outputs": [
        {
          "output_type": "stream",
          "name": "stdout",
          "text": [
            "d\n"
          ]
        }
      ]
    },
    {
      "cell_type": "markdown",
      "source": [
        "#4. What is the value of spam[-1]?\n",
        "\n",
        " spam = ['a', 'b', 'c', 'd'] \n",
        "\n",
        "         -4   -3   -2   -1\n",
        "\n",
        " Hence spam[-1] will give output as 'd'.\n"
      ],
      "metadata": {
        "id": "NbU8MHQp9faF"
      }
    },
    {
      "cell_type": "code",
      "source": [
        "spam[-1]"
      ],
      "metadata": {
        "colab": {
          "base_uri": "https://localhost:8080/",
          "height": 36
        },
        "id": "b3xvEqUMAByF",
        "outputId": "dc05b68d-0c87-44c5-e236-9fed5dd4dcaf"
      },
      "execution_count": 10,
      "outputs": [
        {
          "output_type": "execute_result",
          "data": {
            "text/plain": [
              "'d'"
            ],
            "application/vnd.google.colaboratory.intrinsic+json": {
              "type": "string"
            }
          },
          "metadata": {},
          "execution_count": 10
        }
      ]
    },
    {
      "cell_type": "markdown",
      "source": [
        "# 5. What is the value of spam[:2]?\n",
        "\n",
        "It will include index values from 0 ('a') and 1 ('a'), and will exclude index value 2.\n",
        "\n",
        "Hencse spam[:2] will give ['a', 'b']."
      ],
      "metadata": {
        "id": "KWWeiNX0-Dxe"
      }
    },
    {
      "cell_type": "code",
      "source": [
        "spam[:2]"
      ],
      "metadata": {
        "colab": {
          "base_uri": "https://localhost:8080/"
        },
        "id": "ddRWijCyAEo-",
        "outputId": "d19aae78-bbf2-4201-fc9b-f348e20dca3f"
      },
      "execution_count": 11,
      "outputs": [
        {
          "output_type": "execute_result",
          "data": {
            "text/plain": [
              "['a', 'b']"
            ]
          },
          "metadata": {},
          "execution_count": 11
        }
      ]
    },
    {
      "cell_type": "markdown",
      "source": [
        "# Let's pretend bacon has the list [3.14, 'cat,' 11, 'cat,' True] for the next three questions."
      ],
      "metadata": {
        "id": "IDOxR4Fw-omG"
      }
    },
    {
      "cell_type": "markdown",
      "source": [
        "#6. What is the value of bacon.index('cat')?\n",
        "\n",
        "Ans-> bacon.index('cat') => 1 (first instance of 'cat')"
      ],
      "metadata": {
        "id": "s5JHPfBG-sUh"
      }
    },
    {
      "cell_type": "code",
      "source": [
        "bacon = [3.14, 'cat', 11, 'cat', True]\n",
        "\n",
        "bacon.index('cat')"
      ],
      "metadata": {
        "colab": {
          "base_uri": "https://localhost:8080/"
        },
        "id": "51C0crVPAJ4D",
        "outputId": "c0b00a9a-1cec-4f64-930b-f0a03e2a0414"
      },
      "execution_count": 14,
      "outputs": [
        {
          "output_type": "execute_result",
          "data": {
            "text/plain": [
              "1"
            ]
          },
          "metadata": {},
          "execution_count": 14
        }
      ]
    },
    {
      "cell_type": "markdown",
      "source": [
        "#7. How does bacon.append(99) change the look of the list value in bacon?\n",
        "\n",
        "It will add 99 in the list at last.\n",
        "\n",
        "bacon=[3.14, 'cat,' 11, 'cat,' True, 99] "
      ],
      "metadata": {
        "id": "ZZabFPNI_b8h"
      }
    },
    {
      "cell_type": "code",
      "source": [
        "bacon.append(99) \n",
        "bacon"
      ],
      "metadata": {
        "colab": {
          "base_uri": "https://localhost:8080/"
        },
        "id": "ptgBjcLsAeSP",
        "outputId": "fcad9dea-f292-415b-8f8d-d6f7576e9234"
      },
      "execution_count": 15,
      "outputs": [
        {
          "output_type": "execute_result",
          "data": {
            "text/plain": [
              "[3.14, 'cat', 11, 'cat', True, 99]"
            ]
          },
          "metadata": {},
          "execution_count": 15
        }
      ]
    },
    {
      "cell_type": "markdown",
      "source": [],
      "metadata": {
        "id": "WPFKj6W-_Uk7"
      }
    },
    {
      "cell_type": "markdown",
      "source": [
        "#8. How does bacon.remove('cat') change the look of the list in bacon?\n",
        "\n",
        "It will remove the 'cat' (first occurance) value from the list.\n",
        "\n",
        "bacon=[3.14,' 11, True, 99]"
      ],
      "metadata": {
        "id": "vrEWcuZhAptL"
      }
    },
    {
      "cell_type": "markdown",
      "source": [
        "#9. What are the list concatenation and list replication operators?\n",
        "\n",
        "- The operator for list concatenation is + .\n",
        "\n",
        "- Operator for replication is *."
      ],
      "metadata": {
        "id": "31k6H3QOBbnv"
      }
    },
    {
      "cell_type": "code",
      "source": [
        "#Example\n",
        "\n",
        "A=[1, 2, 3, 4]\n",
        "B=['a', 'b', 'c']\n",
        "\n",
        "print(A+B)\n",
        "print(B*2)"
      ],
      "metadata": {
        "colab": {
          "base_uri": "https://localhost:8080/"
        },
        "id": "UiiY4ZTNB0MZ",
        "outputId": "9d09ae8c-c9a7-4d3f-879e-30896e7ae33b"
      },
      "execution_count": 20,
      "outputs": [
        {
          "output_type": "stream",
          "name": "stdout",
          "text": [
            "[1, 2, 3, 4, 'a', 'b', 'c']\n",
            "['a', 'b', 'c', 'a', 'b', 'c']\n"
          ]
        }
      ]
    },
    {
      "cell_type": "markdown",
      "source": [
        "# 10. What is difference between the list methods append() and insert()?\n",
        "\n",
        "- append() will add values only to the end of a list \n",
        "\n",
        "- insert() can add them anywhere in the list."
      ],
      "metadata": {
        "id": "-n9U-mv-Bp4F"
      }
    },
    {
      "cell_type": "code",
      "source": [
        "print(A)\n",
        "A.append(\"Appended Value\")\n",
        "A.insert(3,\"Inserted Vale\") #at 3rd index\n",
        "print(A)"
      ],
      "metadata": {
        "colab": {
          "base_uri": "https://localhost:8080/"
        },
        "id": "QYkd1D1mCRWU",
        "outputId": "3992ed17-8b5b-4530-b67c-3c79c60352cb"
      },
      "execution_count": 21,
      "outputs": [
        {
          "output_type": "stream",
          "name": "stdout",
          "text": [
            "[1, 2, 3, 4]\n",
            "[1, 2, 3, 'Inserted Vale', 4, 'Appended Value']\n"
          ]
        }
      ]
    },
    {
      "cell_type": "markdown",
      "source": [
        "# 11. What are the two methods for removing items from a list?\n",
        "\n",
        "- remove(Actual Value that is to be reomved)\n",
        "\n",
        "- pop(Index Value that is to be reomved)"
      ],
      "metadata": {
        "id": "VcVEvpVmCmLV"
      }
    },
    {
      "cell_type": "code",
      "source": [
        "print(A)\n",
        "\n",
        "A.remove(4)   # Remove '4' value from the list.\n",
        "A.pop(0)      # Remove 0th index value from the list.\n",
        "print(A)"
      ],
      "metadata": {
        "colab": {
          "base_uri": "https://localhost:8080/"
        },
        "id": "4KAzV8mtC5Z9",
        "outputId": "62f490e4-6201-46b8-d1fd-587ea35e9334"
      },
      "execution_count": 25,
      "outputs": [
        {
          "output_type": "stream",
          "name": "stdout",
          "text": [
            "[1, 2, 4, 'Appended Value']\n",
            "[2, 'Appended Value']\n"
          ]
        }
      ]
    },
    {
      "cell_type": "markdown",
      "source": [
        "# 12. Describe how list values and string values are identical.\n",
        "\n",
        "Both lists and strings can be: \n",
        "- passed to len() function. \n",
        "- Have indexes and slices.\n",
        "- Used in for loops.\n",
        "- Can be concatenated(+) or replicated(*)\n",
        "- Used with the in and not in operators."
      ],
      "metadata": {
        "id": "qhCy4CQgDv7G"
      }
    },
    {
      "cell_type": "markdown",
      "source": [
        "# 13. What's the difference between tuples and lists?\n",
        "\n",
        "Lists are:\n",
        "- Mutable, Indexable and Slicable. \n",
        "- They can have values added, removed, or changed. \n",
        "- lists use the square brackets, [].\n",
        "\n",
        "Tuples are:\n",
        "- Immutable but Indexable and Slicable. \n",
        "- Tuple values cannot be changed at all.\n",
        "- Tuples are represented using parentheses, ()."
      ],
      "metadata": {
        "id": "GrKD-zvOEfOE"
      }
    },
    {
      "cell_type": "markdown",
      "source": [
        "# 14. How do you type a tuple value that only contains the integer 42?\n",
        "\n",
        "Ans: (42,)"
      ],
      "metadata": {
        "id": "WaeSIcR1E9p8"
      }
    },
    {
      "cell_type": "markdown",
      "source": [
        "# 15. How do you get a list value's tuple form? How do you get a tuple value's list form?\n",
        "\n",
        " The tuple() and list() functions, respectively are used to convert a list to tuple and vice versa"
      ],
      "metadata": {
        "id": "fo0HtMqdFNo2"
      }
    },
    {
      "cell_type": "markdown",
      "source": [
        "#16. Variables that \"contain\" list values are not necessarily lists themselves. Instead, what do they contain?\n",
        "\n",
        "They contain references to list values."
      ],
      "metadata": {
        "id": "gdIlvrYDFWzi"
      }
    },
    {
      "cell_type": "markdown",
      "source": [
        "# 17. How do you distinguish between copy.copy() and copy.deepcopy()?\n",
        "\n",
        "- The copy.copy() function will do a shallow copy of a list.\n",
        "- The copy.deepcopy() function will do a deep copy of a list. That is, only copy.deepcopy() will duplicate any lists inside the list."
      ],
      "metadata": {
        "id": "iUfZ55GeFgL4"
      }
    }
  ]
}
