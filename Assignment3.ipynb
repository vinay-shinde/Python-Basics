{
  "nbformat": 4,
  "nbformat_minor": 0,
  "metadata": {
    "colab": {
      "provenance": [],
      "authorship_tag": "ABX9TyM6/YU34mRuaZBMGwrdYvIv",
      "include_colab_link": true
    },
    "kernelspec": {
      "name": "python3",
      "display_name": "Python 3"
    },
    "language_info": {
      "name": "python"
    }
  },
  "cells": [
    {
      "cell_type": "markdown",
      "metadata": {
        "id": "view-in-github",
        "colab_type": "text"
      },
      "source": [
        "<a href=\"https://colab.research.google.com/github/vinay-shinde/Python-Basics/blob/main/Assignment_3.ipynb\" target=\"_parent\"><img src=\"https://colab.research.google.com/assets/colab-badge.svg\" alt=\"Open In Colab\"/></a>"
      ]
    },
    {
      "cell_type": "markdown",
      "source": [
        "#1. Why are functions advantageous to have in your programs?\n",
        "\n",
        "- Functions can be resused in the program(reusability).\n",
        "- Functions reduce the duplication of code. \n",
        "- This makes programs shorter, easier to read, and easier to update."
      ],
      "metadata": {
        "id": "CGul_2l06jYN"
      }
    },
    {
      "cell_type": "markdown",
      "source": [
        "#2. When does the code in a function run: when it's specified or when it's called?\n",
        "\n",
        "When the function is called, the code in a function executes."
      ],
      "metadata": {
        "id": "CK6ncbWK7Bjd"
      }
    },
    {
      "cell_type": "markdown",
      "source": [
        "#3. What statement creates a function?\n",
        "\n",
        "def keyword creates the function.\n",
        "\n",
        "Syntax\n",
        "- def function_name(parameters)\n"
      ],
      "metadata": {
        "id": "Q4uuW3Px8D3d"
      }
    },
    {
      "cell_type": "markdown",
      "source": [
        "#4. What is the difference between a function and a function call?\n",
        "\n",
        "Function:\n",
        "- It is procedure to achieve a particular result. \n",
        "\n",
        "Function call \n",
        "- The particular function to achive that task. \n"
      ],
      "metadata": {
        "id": "0A9lOIL08ZFb"
      }
    },
    {
      "cell_type": "markdown",
      "source": [
        "#5. How many global scopes are there in a Python program? How many local scopes?\n",
        "\n",
        "- One Global Scope\n",
        "- One Local Scope"
      ],
      "metadata": {
        "id": "FBCjPAYa9NHM"
      }
    },
    {
      "cell_type": "markdown",
      "source": [
        "#6. What happens to variables in a local scope when the function call returns?\n",
        "\n",
        "When a function returns, the local scope is terminated, and all the variables in it are forgotten."
      ],
      "metadata": {
        "id": "wgVwADgA9hx6"
      }
    },
    {
      "cell_type": "markdown",
      "source": [
        "#7. What is the concept of a return value? Is it possible to have a return value in an expression?\n",
        "\n",
        "A return value is the value that a function call evaluates to. Like any value, a return value can be used as part of an expression."
      ],
      "metadata": {
        "id": "_UWr6GqY-Qp9"
      }
    },
    {
      "cell_type": "markdown",
      "source": [
        "#8. If a function does not have a return statement, what is the return value of a call to that function?\n",
        "\n",
        "It will returen None."
      ],
      "metadata": {
        "id": "RM8qvZkd-bWi"
      }
    },
    {
      "cell_type": "markdown",
      "source": [
        "#9. How do you make a function variable refer to the global variable?\n",
        "\n",
        "A global statement will force a variable in a function to refer to the global variable. If you want to refer to a global variable in a function, you can use the global keyword to declare which variables are global."
      ],
      "metadata": {
        "id": "cvsG6vrg-kPW"
      }
    },
    {
      "cell_type": "markdown",
      "source": [
        "#10. What is the data type of None?\n",
        "\n",
        "NoneType"
      ],
      "metadata": {
        "id": "aN4vslck-rrT"
      }
    },
    {
      "cell_type": "code",
      "source": [
        "#Example\n",
        "\n",
        "def test1():\n",
        "    pass\n",
        "b=test1()\n",
        "print(b)\n",
        "print(type(b))"
      ],
      "metadata": {
        "colab": {
          "base_uri": "https://localhost:8080/"
        },
        "id": "aoAqt5X6-vHJ",
        "outputId": "8ee209fc-95a4-400e-c878-4e31e7ce79c1"
      },
      "execution_count": 5,
      "outputs": [
        {
          "output_type": "stream",
          "name": "stdout",
          "text": [
            "None\n",
            "<class 'NoneType'>\n"
          ]
        }
      ]
    },
    {
      "cell_type": "markdown",
      "source": [
        "#11. What does the sentence import areallyourpetsnamederic do?\n",
        "\n",
        "That import statement imports a module named areallyourpetsnamederic."
      ],
      "metadata": {
        "id": "StbTSkzc_h2e"
      }
    },
    {
      "cell_type": "markdown",
      "source": [
        "#12. If you had a bacon() feature in a spam module, what would you call it after importing spam?\n",
        "\n",
        "spam.bacon()"
      ],
      "metadata": {
        "id": "-kgY3Xwf_w9g"
      }
    },
    {
      "cell_type": "markdown",
      "source": [
        "#13. What can you do to save a programme from crashing if it encounters an error?\n",
        "\n",
        "Place the line of code that might cause an error in a try clause and use except block to handle the error."
      ],
      "metadata": {
        "id": "0a2XhgCU_2Zq"
      }
    },
    {
      "cell_type": "markdown",
      "source": [
        "#14. What is the purpose of the try clause? What is the purpose of the except clause?\n",
        "\n",
        "- The code that could potentially cause an error goes in the try clause. \n",
        "- The code that executes if an error happens goes in the except clause."
      ],
      "metadata": {
        "id": "GzpN9uGl_-BL"
      }
    }
  ]
}
