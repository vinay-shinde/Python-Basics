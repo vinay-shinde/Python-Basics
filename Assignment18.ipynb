{
  "cells": [
    {
      "cell_type": "markdown",
      "metadata": {
        "id": "view-in-github",
        "colab_type": "text"
      },
      "source": [
        "<a href=\"https://colab.research.google.com/github/vinay-shinde/Python-Basics/blob/main/Assignment18.ipynb\" target=\"_parent\"><img src=\"https://colab.research.google.com/assets/colab-badge.svg\" alt=\"Open In Colab\"/></a>"
      ]
    },
    {
      "cell_type": "markdown",
      "id": "008a10cf",
      "metadata": {
        "id": "008a10cf"
      },
      "source": [
        "# Assignment 18 Solutions"
      ]
    },
    {
      "cell_type": "code",
      "execution_count": null,
      "id": "ceee30c4-2e1d-4191-9069-33d032e6b72f",
      "metadata": {
        "id": "ceee30c4-2e1d-4191-9069-33d032e6b72f",
        "outputId": "76f8e628-8bc0-4518-b1fd-e1f43840dc20"
      },
      "outputs": [
        {
          "name": "stdout",
          "output_type": "stream",
          "text": [
            "def hours():\n",
            "    print(\"Open 9-5 daily\")\n"
          ]
        }
      ],
      "source": [
        "!type zoo.py"
      ]
    },
    {
      "cell_type": "markdown",
      "id": "4b0045ff",
      "metadata": {
        "id": "4b0045ff"
      },
      "source": [
        "#### 1. Create a zoo.py file first. Define the hours() function, which prints the string 'Open 9-5 daily'. Then, use the interactive interpreter to import the zoo module and call its hours() function."
      ]
    },
    {
      "cell_type": "code",
      "execution_count": null,
      "id": "6ccab705",
      "metadata": {
        "id": "6ccab705",
        "outputId": "0b0d72e3-98c6-4650-91c9-9feb2a67ce64"
      },
      "outputs": [
        {
          "name": "stdout",
          "output_type": "stream",
          "text": [
            "Open 9-5 daily\n"
          ]
        }
      ],
      "source": [
        "import zoo\n",
        "zoo.hours()"
      ]
    },
    {
      "cell_type": "markdown",
      "id": "77c06807",
      "metadata": {
        "id": "77c06807"
      },
      "source": [
        "#### 2. In the interactive interpreter, import the zoo module as menagerie and call its hours() function."
      ]
    },
    {
      "cell_type": "code",
      "execution_count": null,
      "id": "e907fa84",
      "metadata": {
        "id": "e907fa84",
        "outputId": "9ad2204d-37df-4988-dad7-e712822174cf"
      },
      "outputs": [
        {
          "name": "stdout",
          "output_type": "stream",
          "text": [
            "Open 9-5 daily\n"
          ]
        }
      ],
      "source": [
        "import zoo as menagerie\n",
        "menagerie.hours()"
      ]
    },
    {
      "cell_type": "markdown",
      "id": "7674c3cd",
      "metadata": {
        "id": "7674c3cd"
      },
      "source": [
        "#### 3. Using the interpreter, explicitly import and call the hours() function from zoo."
      ]
    },
    {
      "cell_type": "code",
      "execution_count": null,
      "id": "5cd291d4",
      "metadata": {
        "id": "5cd291d4",
        "outputId": "13601e62-b1f4-48a0-d88c-e42b8a5073f7"
      },
      "outputs": [
        {
          "name": "stdout",
          "output_type": "stream",
          "text": [
            "Open 9-5 daily\n"
          ]
        }
      ],
      "source": [
        "from zoo import hours\n",
        "hours()"
      ]
    },
    {
      "cell_type": "markdown",
      "id": "1b939228",
      "metadata": {
        "id": "1b939228"
      },
      "source": [
        "#### 4. Import the hours() function as info and call it."
      ]
    },
    {
      "cell_type": "code",
      "execution_count": null,
      "id": "ad74dc37",
      "metadata": {
        "id": "ad74dc37",
        "outputId": "dc7c312c-fec3-4959-a001-da8df6caf428"
      },
      "outputs": [
        {
          "name": "stdout",
          "output_type": "stream",
          "text": [
            "Open 9-5 daily\n"
          ]
        }
      ],
      "source": [
        "from zoo import hours as info\n",
        "info()"
      ]
    },
    {
      "cell_type": "markdown",
      "id": "8ff06188",
      "metadata": {
        "id": "8ff06188"
      },
      "source": [
        "#### 5. Create a plain dictionary with the key-value pairs 'a': 1, 'b': 2, and 'c': 3, and print it out."
      ]
    },
    {
      "cell_type": "code",
      "execution_count": null,
      "id": "fbec4dfb",
      "metadata": {
        "id": "fbec4dfb",
        "outputId": "ee6f8e73-7e4f-478f-8be6-55d7ea58af32"
      },
      "outputs": [
        {
          "name": "stdout",
          "output_type": "stream",
          "text": [
            "{'a': 1, 'b': 2, 'c': 3}\n"
          ]
        }
      ],
      "source": [
        "plain_dict = {'a':1,'b':2,'c':3}\n",
        "print(plain_dict)"
      ]
    },
    {
      "cell_type": "markdown",
      "id": "096c1b21",
      "metadata": {
        "id": "096c1b21"
      },
      "source": [
        "#### 6.Make an OrderedDict called fancy from the same pairs listed in 5 and print it. Did it print in the same order as plain?"
      ]
    },
    {
      "cell_type": "code",
      "execution_count": null,
      "id": "dd606af8",
      "metadata": {
        "id": "dd606af8",
        "outputId": "19cd12de-b825-4852-e470-1fb260d63c75"
      },
      "outputs": [
        {
          "name": "stdout",
          "output_type": "stream",
          "text": [
            "plain_dict -> {'a': 1, 'b': 2, 'c': 3}\n",
            "fancy -> OrderedDict([('a', 1), ('b', 2), ('c', 3)])\n"
          ]
        }
      ],
      "source": [
        "from collections import OrderedDict\n",
        "fancy = OrderedDict(plain_dict)\n",
        "print(f'plain_dict -> {plain_dict}')\n",
        "print(f'fancy -> {fancy}')"
      ]
    },
    {
      "cell_type": "markdown",
      "id": "e55d1c69",
      "metadata": {
        "id": "e55d1c69"
      },
      "source": [
        "#### 7. Make a default dictionary called dict_of_lists and pass it the argument list. Make the list dict_of_lists['a'] and append the value 'something for a' to it in one assignment. Print dict_of_lists['a']."
      ]
    },
    {
      "cell_type": "code",
      "execution_count": null,
      "id": "264fc2cd",
      "metadata": {
        "id": "264fc2cd",
        "outputId": "9db4cd48-84f7-40a6-f588-6550d99cb235"
      },
      "outputs": [
        {
          "name": "stdout",
          "output_type": "stream",
          "text": [
            "['something for a']\n"
          ]
        }
      ],
      "source": [
        "from collections import defaultdict\n",
        "dict_of_lists = defaultdict(list)\n",
        "dict_of_lists['a'].append('something for a')\n",
        "print(dict_of_lists['a'])"
      ]
    }
  ],
  "metadata": {
    "kernelspec": {
      "display_name": "Python 3 (ipykernel)",
      "language": "python",
      "name": "python3"
    },
    "language_info": {
      "codemirror_mode": {
        "name": "ipython",
        "version": 3
      },
      "file_extension": ".py",
      "mimetype": "text/x-python",
      "name": "python",
      "nbconvert_exporter": "python",
      "pygments_lexer": "ipython3",
      "version": "3.8.8"
    },
    "colab": {
      "provenance": [],
      "include_colab_link": true
    }
  },
  "nbformat": 4,
  "nbformat_minor": 5
}