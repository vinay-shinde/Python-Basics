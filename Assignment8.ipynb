{
  "nbformat": 4,
  "nbformat_minor": 0,
  "metadata": {
    "colab": {
      "provenance": [],
      "authorship_tag": "ABX9TyOv8mBY7GzIFFNWU6XGCB0P",
      "include_colab_link": true
    },
    "kernelspec": {
      "name": "python3",
      "display_name": "Python 3"
    },
    "language_info": {
      "name": "python"
    }
  },
  "cells": [
    {
      "cell_type": "markdown",
      "metadata": {
        "id": "view-in-github",
        "colab_type": "text"
      },
      "source": [
        "<a href=\"https://colab.research.google.com/github/vinay-shinde/Python-Basics/blob/main/Assignment8.ipynb\" target=\"_parent\"><img src=\"https://colab.research.google.com/assets/colab-badge.svg\" alt=\"Open In Colab\"/></a>"
      ]
    },
    {
      "cell_type": "markdown",
      "source": [
        "#1. Is the Python Standard Library included with PyInputPlus?\n",
        "\n",
        "Ans: No, PyInputPlus is not a part of Python Standard Library, it needs to be installed explicitly using the command !pip install PyInputPlus"
      ],
      "metadata": {
        "id": "_dY-8dnTMnvk"
      }
    },
    {
      "cell_type": "markdown",
      "source": [
        "# 2. Why is PyInputPlus commonly imported with import pyinputplus as pypi?\n",
        "\n",
        "Ans: You can import the module with import pyinputplus as pyip so that you can enter a shorter name when calling the module's functions."
      ],
      "metadata": {
        "id": "uh2p-qtVM0Ly"
      }
    },
    {
      "cell_type": "markdown",
      "source": [
        "#3. How do you distinguish between inputInt() and inputFloat()?\n",
        "\n",
        "Ans:\n",
        "- inputInt() function Accepts an integer value. This also takes additional parameters min, max, greaterThan and lessThan for bounds. And it always returns an int.\n",
        "\n",
        "- Whereas inputFloat() function Accepts a floating-point numeric value. this also takes additional min, max, greaterThan and lessThan parameters. and always returns a float.\n",
        "\n"
      ],
      "metadata": {
        "id": "yNsDTNm1M7Q9"
      }
    },
    {
      "cell_type": "markdown",
      "source": [
        "#4. Using PyInputPlus, how do you ensure that the user enters a whole number between 0 and 99?\n",
        "\n",
        "Ans: PyInputPlus module provides a function called as inputInt() which only returns only integer values. inorder to restrict the input between 0 and 99, i'ii use parameters like min & max to ensure that user enters the values between the defined range only."
      ],
      "metadata": {
        "id": "xTdFo-fVNJhb"
      }
    },
    {
      "cell_type": "markdown",
      "source": [
        "#5. What is transferred to the keyword arguments allowRegexes and blockRegexes?\n",
        "\n",
        "Ans: we can use allowRegexes and blockRegexes keyword arguments to take list of regular expression strings to determine what the pyinputplus function will reject or accept valid input."
      ],
      "metadata": {
        "id": "Y3X5iLo_NPEY"
      }
    },
    {
      "cell_type": "markdown",
      "source": [
        "#6. If a blank input is entered three times, what does inputStr(limit=3) do?\n",
        "\n",
        "Ans: The statement inputStr(limit=3) will throw two exceptions ValidationException and RetryLimitException. The first exception is thrown because blank values are not allowed by inputStr() function by default. it we want to consider blank values as valid input, we have to set blank=True.\n",
        "\n",
        "The second exception is occured because we have reached the max limit we have specified by using limit parameter. inorder to avoid this exception we can use default parameter to return a default value when max limit is reached."
      ],
      "metadata": {
        "id": "1ZsaPiYZNhdF"
      }
    },
    {
      "cell_type": "markdown",
      "source": [
        "#7. If blank input is entered three times, what does inputStr(limit=3, default='hello') do?\n",
        "\n",
        "Ans: Since the default parameter is set to hello. after blank input is entered three times instead of raising RetryLimitException exception. the function will return hello as response to the calling function"
      ],
      "metadata": {
        "id": "CDgQcVDjNlhs"
      }
    },
    {
      "cell_type": "code",
      "execution_count": null,
      "metadata": {
        "id": "ddrWIPGiMkDX"
      },
      "outputs": [],
      "source": []
    }
  ]
}