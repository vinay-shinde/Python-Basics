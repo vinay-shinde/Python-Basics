{
  "nbformat": 4,
  "nbformat_minor": 0,
  "metadata": {
    "colab": {
      "provenance": [],
      "authorship_tag": "ABX9TyPrIdpXFnFRTmD0fVC2eziS",
      "include_colab_link": true
    },
    "kernelspec": {
      "name": "python3",
      "display_name": "Python 3"
    },
    "language_info": {
      "name": "python"
    }
  },
  "cells": [
    {
      "cell_type": "markdown",
      "metadata": {
        "id": "view-in-github",
        "colab_type": "text"
      },
      "source": [
        "<a href=\"https://colab.research.google.com/github/vinay-shinde/Python-Basics/blob/main/Assignment_6.ipynb\" target=\"_parent\"><img src=\"https://colab.research.google.com/assets/colab-badge.svg\" alt=\"Open In Colab\"/></a>"
      ]
    },
    {
      "cell_type": "markdown",
      "source": [
        "#1. What are escape characters, and how do you use them?\n",
        "\n",
        "**Ans**: Escape characters represent characters in string values that would otherwise be difficult or impossible to type into code. we can use the backslash character to escape a single character or symbol.\n",
        "\n",
        "**example**: \\t, \\n"
      ],
      "metadata": {
        "id": "0Ex0e9twQxR3"
      }
    },
    {
      "cell_type": "markdown",
      "source": [
        "#2. What do the escape characters n and t stand for?\n",
        "\n",
        "**Ans:** \\n is a newline, \\t is a tab\n",
        "\n"
      ],
      "metadata": {
        "id": "RTXJBQ2ZRKX_"
      }
    },
    {
      "cell_type": "markdown",
      "source": [
        "#3. What is the way to include backslash characters in a string?\n",
        "\n",
        "**Ans:** The \\\\ escape character will represent the backslash character in a string"
      ],
      "metadata": {
        "id": "u7HmMLgnRKPO"
      }
    },
    {
      "cell_type": "markdown",
      "source": [
        "#4. The string \"Howl's Moving Castle\" is a correct value. Why isn't the single quote character in the word Howl's not escaped a problem?\n",
        "\n",
        "**Ans:** The string \"Howl's Moving Castle\" escaped the problem because it is wrapped inside double quotes. If its wrapped inside single quotes then we have to use escape character \\' to show single quote in the final output\n",
        "'Howl\\'s Moving Castle' -> 'Howl's Moving Castle'"
      ],
      "metadata": {
        "id": "8mrQtPCqRKFH"
      }
    },
    {
      "cell_type": "markdown",
      "source": [
        "#5. How do you write a string of newlines if you don't want to use the n character?\n",
        "\n",
        "**Ans:** Multiline string allow you to use newlines in string without the \\n escape character"
      ],
      "metadata": {
        "id": "Ni4fTl5-RJ55"
      }
    },
    {
      "cell_type": "code",
      "source": [
        "# Example:\n",
        "a = '''iNeuron full stack\n",
        "Data Science Course'''\n",
        "print(a)"
      ],
      "metadata": {
        "colab": {
          "base_uri": "https://localhost:8080/"
        },
        "id": "jQA796zrR7zE",
        "outputId": "37706b7d-79d7-4b1b-945b-1d6878b9c4c4"
      },
      "execution_count": 1,
      "outputs": [
        {
          "output_type": "stream",
          "name": "stdout",
          "text": [
            "iNeuron full stack\n",
            "Data Science Course\n"
          ]
        }
      ]
    },
    {
      "cell_type": "markdown",
      "source": [
        "#6. What are the values of the given expressions?\n",
        "\n",
        "'Hello, world!'[1]\n",
        "\n",
        "'Hello, world!'[0:5]\n",
        "\n",
        "'Hello, world!'[:5]\n",
        "\n",
        "'Hello, world!'[3:]\n",
        "\n",
        "\n",
        "**Ans:** The values for the given expressions are:\n",
        "\n",
        "'Hello, world!'[1] -> 'e'\n",
        "\n",
        "'Hello, world!'[0:5] -> 'Hello'\n",
        "\n",
        "'Hello, world!'[:5] -> 'Hello'\n",
        "\n",
        "'Hello, world!'[3:] -> 'lo, world!'"
      ],
      "metadata": {
        "id": "pQ8Z-qTYRJuH"
      }
    },
    {
      "cell_type": "markdown",
      "source": [
        "#7. What are the values of the following expressions?\n",
        "\n",
        "'Hello'.upper()\n",
        "\n",
        "'Hello'.upper().isupper()\n",
        "\n",
        "'Hello'.upper().lower()\n",
        "\n",
        "**Ans:** The values for the given expressions are:\n",
        "\n",
        "'Hello'.upper() -> 'HELLO'\n",
        "\n",
        "'Hello'.upper().isupper() -> True\n",
        "\n",
        "'Hello'.upper().lower() -> 'hello'\n"
      ],
      "metadata": {
        "id": "epHkPGKOSWqP"
      }
    },
    {
      "cell_type": "markdown",
      "source": [
        "#8. What are the values of the following expressions?\n",
        "\n",
        "'Remember, remember, the fifth of July.'.split()'-'.join('There can only one.'.split())\n",
        "\n",
        "**Ans:** The values for the given expressions are:\n",
        "\n",
        "'Remember, remember, the fifith of July.'.split() ->\n",
        "\n",
        " ['Remember,', 'remember,', 'the', 'fifith', 'of', 'July.']\n",
        "'-'.join('There can only one'.split()) -> 'There-can-only-one'\n"
      ],
      "metadata": {
        "id": "42otQcEDSszQ"
      }
    },
    {
      "cell_type": "markdown",
      "source": [
        "#9. What are the methods for right-justifying, left-justifying, and centering a string?\n",
        "\n",
        "**Ans:** The rjust(),ljust(),center() string methods, respectively"
      ],
      "metadata": {
        "id": "R0pUjsXBS6Df"
      }
    },
    {
      "cell_type": "markdown",
      "source": [
        "#10. What is the best way to remove whitespace characters from the start or end?\n",
        "\n",
        "**Ans:** The lstrip() and rstrip() methods remove whitesapce characters from the left and right ends of a string respectively"
      ],
      "metadata": {
        "id": "PrOhooWkTJM3"
      }
    }
  ]
}
