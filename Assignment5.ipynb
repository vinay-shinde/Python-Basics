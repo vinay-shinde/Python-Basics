{
  "nbformat": 4,
  "nbformat_minor": 0,
  "metadata": {
    "colab": {
      "provenance": [],
      "authorship_tag": "ABX9TyNC2bWnQXBVTiWBWMsXymMj",
      "include_colab_link": true
    },
    "kernelspec": {
      "name": "python3",
      "display_name": "Python 3"
    },
    "language_info": {
      "name": "python"
    }
  },
  "cells": [
    {
      "cell_type": "markdown",
      "metadata": {
        "id": "view-in-github",
        "colab_type": "text"
      },
      "source": [
        "<a href=\"https://colab.research.google.com/github/vinay-shinde/Python-Basics/blob/main/Assignment_5.ipynb\" target=\"_parent\"><img src=\"https://colab.research.google.com/assets/colab-badge.svg\" alt=\"Open In Colab\"/></a>"
      ]
    },
    {
      "cell_type": "markdown",
      "source": [
        "#1. What does an empty dictionary's code look like?\n",
        "\n",
        "**Ans**:  {}"
      ],
      "metadata": {
        "id": "e1wZ6LjMvrtw"
      }
    },
    {
      "cell_type": "code",
      "source": [
        "d={}\n",
        "print(type(d))\n",
        "print(d)"
      ],
      "metadata": {
        "colab": {
          "base_uri": "https://localhost:8080/"
        },
        "id": "aMyhedvJv3pH",
        "outputId": "558e13b0-bf15-4cbe-d234-401a7f53c487"
      },
      "execution_count": 4,
      "outputs": [
        {
          "output_type": "stream",
          "name": "stdout",
          "text": [
            "<class 'dict'>\n",
            "{}\n"
          ]
        }
      ]
    },
    {
      "cell_type": "markdown",
      "source": [
        "#2. What is the value of a dictionary value with the key 'foo' and the value 42?\n",
        "\n",
        "**Ans:**  '{'foo': 42}"
      ],
      "metadata": {
        "id": "3hjZKDikv2Qn"
      }
    },
    {
      "cell_type": "code",
      "execution_count": 3,
      "metadata": {
        "colab": {
          "base_uri": "https://localhost:8080/"
        },
        "id": "uZqw-PhkvoIX",
        "outputId": "ef2ba60e-a90a-429b-c672-d8ca8cd72a3a"
      },
      "outputs": [
        {
          "output_type": "stream",
          "name": "stdout",
          "text": [
            "{'foo': 42}\n"
          ]
        }
      ],
      "source": [
        "d1={\"foo\":42}\n",
        "print(d1)"
      ]
    },
    {
      "cell_type": "code",
      "source": [],
      "metadata": {
        "id": "wN24I32XwWeN"
      },
      "execution_count": null,
      "outputs": []
    },
    {
      "cell_type": "markdown",
      "source": [
        "# 3. What is the most significant distinction between a dictionary and a list?\n",
        "\n",
        "**Ans:** \n",
        "- Dictionaries are represented by {} where as listed are represented by []\n",
        "- The Items stored in a dictionary are Unordered , while the items in a list are ordered"
      ],
      "metadata": {
        "id": "zhH2Dt6BwR4Z"
      }
    },
    {
      "cell_type": "code",
      "source": [],
      "metadata": {
        "id": "UF_PF0OTwwBR"
      },
      "execution_count": null,
      "outputs": []
    },
    {
      "cell_type": "markdown",
      "source": [
        "#4. What happens if you try to access spam['foo'] if spam is {'bar': 100}?\n",
        "\n",
        "**Ans:**  we will get a keyError KeyError: 'foo'"
      ],
      "metadata": {
        "id": "VqNMlBGzwoi3"
      }
    },
    {
      "cell_type": "code",
      "source": [
        "spam= {'bar': 100}\n",
        "spam['foo'] \n"
      ],
      "metadata": {
        "colab": {
          "base_uri": "https://localhost:8080/",
          "height": 182
        },
        "id": "IuGy_Ae6wJJ6",
        "outputId": "37ae13b0-781a-46af-99f5-4115ca538e46"
      },
      "execution_count": 5,
      "outputs": [
        {
          "output_type": "error",
          "ename": "KeyError",
          "evalue": "ignored",
          "traceback": [
            "\u001b[0;31m---------------------------------------------------------------------------\u001b[0m",
            "\u001b[0;31mKeyError\u001b[0m                                  Traceback (most recent call last)",
            "\u001b[0;32m<ipython-input-5-db6450d8e8ec>\u001b[0m in \u001b[0;36m<module>\u001b[0;34m\u001b[0m\n\u001b[1;32m      1\u001b[0m \u001b[0mspam\u001b[0m\u001b[0;34m=\u001b[0m \u001b[0;34m{\u001b[0m\u001b[0;34m'bar'\u001b[0m\u001b[0;34m:\u001b[0m \u001b[0;36m100\u001b[0m\u001b[0;34m}\u001b[0m\u001b[0;34m\u001b[0m\u001b[0;34m\u001b[0m\u001b[0m\n\u001b[0;32m----> 2\u001b[0;31m \u001b[0mspam\u001b[0m\u001b[0;34m[\u001b[0m\u001b[0;34m'foo'\u001b[0m\u001b[0;34m]\u001b[0m\u001b[0;34m\u001b[0m\u001b[0;34m\u001b[0m\u001b[0m\n\u001b[0m",
            "\u001b[0;31mKeyError\u001b[0m: 'foo'"
          ]
        }
      ]
    },
    {
      "cell_type": "markdown",
      "source": [
        "#5. If a dictionary is stored in spam, what is the difference between the expressions 'cat' in spam and 'cat' in spam.keys()?\n",
        "\n",
        "**Ans:** There is no difference . The operator checks whether a value exits as a key in the dictionary or not"
      ],
      "metadata": {
        "id": "krDrH2GVxBFD"
      }
    },
    {
      "cell_type": "code",
      "source": [
        "spam={\"cat\":\"cat\"}\n",
        "spam.keys()"
      ],
      "metadata": {
        "colab": {
          "base_uri": "https://localhost:8080/"
        },
        "id": "o943PWSNw7VP",
        "outputId": "d287ca0d-cb81-421f-d191-f16066fdbe35"
      },
      "execution_count": 8,
      "outputs": [
        {
          "output_type": "execute_result",
          "data": {
            "text/plain": [
              "dict_keys(['cat'])"
            ]
          },
          "metadata": {},
          "execution_count": 8
        }
      ]
    },
    {
      "cell_type": "markdown",
      "source": [
        "#6. If a dictionary is stored in spam, what is the difference between the expressions 'cat' in spam and 'cat' in spam.values()?\n",
        "\n",
        "\n",
        "**Ans:**  'cat' in spam checks whether there is a 'cat' key in the dictionary, while 'cat' in spam.values() checks whether there is a value 'cat' for one of the keys in spam."
      ],
      "metadata": {
        "id": "Jr1G2lYbxe48"
      }
    },
    {
      "cell_type": "markdown",
      "source": [
        "#7. What is a shortcut for the following code?\n",
        "if 'color' not in spam:\n",
        "\n",
        "spam['color'] = 'black'\n",
        "\n",
        "**Ans:**  spam.setdefault('color','black')\n"
      ],
      "metadata": {
        "id": "L60RedqSxrvz"
      }
    },
    {
      "cell_type": "code",
      "source": [
        "spam.setdefault('color','black')"
      ],
      "metadata": {
        "colab": {
          "base_uri": "https://localhost:8080/",
          "height": 36
        },
        "id": "pEwVoTGLx6WW",
        "outputId": "b27eb8e7-4dae-46e5-a56c-e661e3d41bcc"
      },
      "execution_count": 9,
      "outputs": [
        {
          "output_type": "execute_result",
          "data": {
            "text/plain": [
              "'black'"
            ],
            "application/vnd.google.colaboratory.intrinsic+json": {
              "type": "string"
            }
          },
          "metadata": {},
          "execution_count": 9
        }
      ]
    },
    {
      "cell_type": "markdown",
      "source": [
        "#8. How do you \"pretty print\" dictionary values using which module and function?\n",
        "\n",
        "**Ans:**  \n",
        "\n",
        "we can pretty print a dictionary using three functions\n",
        "\n",
        "- by using pprint() function of pprint module\n",
        "\n",
        "   Note: pprint() function doesnot prettify nested dictionaries\n",
        "- by using dumps() method of json module\n",
        "- by using dumps() method of yaml module"
      ],
      "metadata": {
        "id": "ojjdYFFcx8iq"
      }
    }
  ]
}
