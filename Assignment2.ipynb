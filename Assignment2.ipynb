{
  "nbformat": 4,
  "nbformat_minor": 0,
  "metadata": {
    "colab": {
      "provenance": [],
      "authorship_tag": "ABX9TyPt/gd8atHjtSmeD+cwqQG/",
      "include_colab_link": true
    },
    "kernelspec": {
      "name": "python3",
      "display_name": "Python 3"
    },
    "language_info": {
      "name": "python"
    }
  },
  "cells": [
    {
      "cell_type": "markdown",
      "metadata": {
        "id": "view-in-github",
        "colab_type": "text"
      },
      "source": [
        "<a href=\"https://colab.research.google.com/github/vinay-shinde/Python-Basics/blob/main/Assignment2.ipynb\" target=\"_parent\"><img src=\"https://colab.research.google.com/assets/colab-badge.svg\" alt=\"Open In Colab\"/></a>"
      ]
    },
    {
      "cell_type": "markdown",
      "source": [
        "# 1. What are the two values of the Boolean data type? How do you write them?\n",
        "\n",
        "There are two types of Boolean data types:\n",
        "1. True (1)\n",
        "2. False (0)\n",
        "\n",
        "It is can be written: bool()"
      ],
      "metadata": {
        "id": "_Uu3g-4BFvG_"
      }
    },
    {
      "cell_type": "markdown",
      "source": [
        "# 2. What are the three different types of Boolean operators?\n",
        "\n",
        "There are three different types of Boolean operators:\n",
        "1. AND\n",
        "2. OR\n",
        "3. NOT"
      ],
      "metadata": {
        "id": "GYvnBVKiJ73_"
      }
    },
    {
      "cell_type": "markdown",
      "source": [
        "# 3. Make a list of each Boolean operator's truth tables (i.e. every possible combination of Boolean values for the operator and what it evaluate ).\n",
        "\n",
        "AND Operator:\n",
        "\n",
        "TRUE+TRUE=TRUE\n",
        "\n",
        "TRUE+FALSE=FALSE\n",
        "\n",
        "FALSE+TRUE=FALSE\n",
        "\n",
        "FALSE+FALSE=FALSE\n",
        "\n",
        "---\n",
        "\n",
        "OR Operator:\n",
        "\n",
        "TRUE+TRUE=TRUE\n",
        "\n",
        "TRUE+FALSE=TRUE\n",
        "\n",
        "FALSE+TRUE=TRUE\n",
        "\n",
        "FALSE+FALSE=FALSE\n",
        "\n",
        "---\n",
        "NOT Operator\n",
        "\n",
        "TRUE=FALSE\n",
        "\n",
        "FALSE=TRUE\n"
      ],
      "metadata": {
        "id": "abtF01RnLskJ"
      }
    },
    {
      "cell_type": "markdown",
      "source": [
        "#4. What are the values of the following expressions?\n",
        "\n",
        "(5 > 4) and (3 == 5)\n",
        "\n",
        "False\n",
        "\n",
        "---\n",
        "not (5 > 4)\n",
        "\n",
        "False\n",
        "\n",
        "---\n",
        "(5 > 4) or (3 == 5)\n",
        "\n",
        "True\n",
        "\n",
        "---\n",
        "not ((5 > 4) or (3 == 5))\n",
        "\n",
        "False\n",
        "\n",
        "---\n",
        "(True and True) and (True == False)\n",
        "\n",
        "False\n",
        "\n",
        "---\n",
        "\n",
        "\n",
        "(not False) or (not True)\n",
        "\n",
        "True"
      ],
      "metadata": {
        "id": "O_DLxcwsO23h"
      }
    },
    {
      "cell_type": "markdown",
      "source": [
        "# 5. What are the six comparison operators?\n",
        "\n",
        "1. Less Than = (4>5) => False\n",
        "2. Greater Than = (5>4) => True\n",
        "3. Less than or equal to = (5<=4) => False\n",
        "4. Greater than or equal to = (5>=4) => True\n",
        "5. Equal to = (5==4) => False\n",
        "6. Not equal to = (5!=4) => True"
      ],
      "metadata": {
        "id": "fxs8Nz0nQAX4"
      }
    },
    {
      "cell_type": "markdown",
      "source": [
        "# 6. How do you tell the difference between the equal to and assignment operators?Describe a condition and when you would use one.\n",
        "\n",
        "1. Equal to operator:\n",
        "It is used when comapring the equality of two variables.\n",
        "\n",
        "  Example: \n",
        "\n",
        "  (5==5) will return True (checking the equality)\n",
        "\n",
        "---\n",
        "\n",
        "2. Assignment Operator:\n",
        "It is used when assigning a value to a variable.\n",
        "\n",
        "  Example: \n",
        "\n",
        "  x=5\n",
        "\n",
        "  print(x)\n",
        "\n",
        "  x will return a value 5 (assigning a value i.e. 5 to variable x)\n"
      ],
      "metadata": {
        "id": "vDpShyrCRL_9"
      }
    },
    {
      "cell_type": "markdown",
      "source": [
        "# 7. Identify the three blocks in this code:\n",
        "\n",
        "spam = 0  ------> spam variable value is 0\n",
        "\n",
        "if spam == 10: -------> False\n",
        "\n",
        "print('eggs')\n",
        "\n",
        "if spam > 5: ----------> False\n",
        "\n",
        "print('bacon')\n",
        "\n",
        "else:         \n",
        "\n",
        "print('ham') ---------> True\n",
        "\n",
        "print('spam') ---------> True\n",
        "\n",
        "print('spam') ---------> True\n",
        "\n",
        "---\n",
        "\n",
        "\n",
        "\n",
        "Output:\n",
        "\n",
        "ham\n",
        "\n",
        "spam\n",
        "\n",
        "spam\n"
      ],
      "metadata": {
        "id": "Hn7nalu7SSDX"
      }
    },
    {
      "cell_type": "markdown",
      "source": [
        "# 8. Write code that prints Hello if 1 is stored in spam, prints Howdy if 2 is stored in spam, and prints Greetings! if anything else is stored in spam."
      ],
      "metadata": {
        "id": "NSs55-EX4ZB3"
      }
    },
    {
      "cell_type": "code",
      "source": [
        "spam = int(input(\"Enter value of sapm: \"))\n",
        "if spam == 1:\n",
        "  print('Hello')\n",
        "elif spam == 2:\n",
        "  print('Howdy')\n",
        "else:\n",
        "  print('Greetings!')"
      ],
      "metadata": {
        "colab": {
          "base_uri": "https://localhost:8080/"
        },
        "id": "S2vcYzit4h0m",
        "outputId": "adfd697f-9349-48b5-8c0d-224721a85f11"
      },
      "execution_count": 9,
      "outputs": [
        {
          "output_type": "stream",
          "name": "stdout",
          "text": [
            "Enter value of sapm: 8\n",
            "Greetings!\n"
          ]
        }
      ]
    },
    {
      "cell_type": "markdown",
      "source": [
        "# 9. If your programme is stuck in an endless loop, what keys you’ll press?\n",
        "\n",
        "1. You can directly stop the program by clicking on \"Run Cell\" option.\n",
        "\n",
        "2. You can press ctrl+c"
      ],
      "metadata": {
        "id": "4yF5U0u35pJE"
      }
    },
    {
      "cell_type": "markdown",
      "source": [
        "# 10. How can you tell the difference between break and continue?\n",
        "\n",
        "1. Break:\n",
        "\n",
        "  Terminates the execution of the current loop and passes the control over the next loop or main body.\n",
        "\n",
        "---\n",
        "2. Continue:\n",
        "\n",
        "  Skips the current iteration and executes the very next iteration in the loop."
      ],
      "metadata": {
        "id": "PsOW5cuCRbaL"
      }
    },
    {
      "cell_type": "markdown",
      "source": [
        "# 11. In a for loop, what is the difference between range(10), range(0, 10), and range(0, 10, 1)?\n",
        "\n",
        "1. range(10):\n",
        "\n",
        "   range(n)\n",
        "\n",
        "It will give the output of series of number from 0 to n-1 and it always start from 0 and the loop will end at n-1 (here n=10).\n",
        "\n",
        "---\n",
        "2. range(0,10):\n",
        "\n",
        "  range(a,n)\n",
        "\n",
        "\n",
        "It will give the output of series of number from a to n-1 and it will start from a (here a=0) and the loop will end at n-1 (here n=10).\n",
        "\n",
        "---\n",
        "3. range(0,10,1):\n",
        "\n",
        "  range(a,n,b)\n",
        "\n",
        "\n",
        "It will give the output of series of number from a (here a=0) to with the increment of b(here b=1) in each output and it will run upto n-1(here n=10).\n",
        "\n",
        "\n",
        "\n",
        "\n",
        "\n",
        "\n"
      ],
      "metadata": {
        "id": "eSbJ692ISKgo"
      }
    },
    {
      "cell_type": "markdown",
      "source": [
        "#12. Write a short program that prints the numbers 1 to 10 using a for loop. Then write an equivalent program that prints the numbers 1 to 10 using a while loop.\n",
        "\n"
      ],
      "metadata": {
        "id": "yFHm2wF5VXOo"
      }
    },
    {
      "cell_type": "code",
      "source": [
        "# for loop\n",
        "\n",
        "for i in range(1,11):\n",
        "  print (i)"
      ],
      "metadata": {
        "colab": {
          "base_uri": "https://localhost:8080/"
        },
        "id": "csFv_18UVbWr",
        "outputId": "cddb7690-7330-4ec4-9704-4cf059bbf1ee"
      },
      "execution_count": 20,
      "outputs": [
        {
          "output_type": "stream",
          "name": "stdout",
          "text": [
            "1\n",
            "2\n",
            "3\n",
            "4\n",
            "5\n",
            "6\n",
            "7\n",
            "8\n",
            "9\n",
            "10\n"
          ]
        }
      ]
    },
    {
      "cell_type": "code",
      "source": [
        "# while loop\n",
        "\n",
        "i = 1\n",
        "\n",
        "while i < 11:\n",
        "  print(i)\n",
        "  i += 1"
      ],
      "metadata": {
        "colab": {
          "base_uri": "https://localhost:8080/"
        },
        "id": "o5KM8xQJVoaN",
        "outputId": "6a2e8a5e-5d0b-4813-93b8-6c69547a0e49"
      },
      "execution_count": 21,
      "outputs": [
        {
          "output_type": "stream",
          "name": "stdout",
          "text": [
            "1\n",
            "2\n",
            "3\n",
            "4\n",
            "5\n",
            "6\n",
            "7\n",
            "8\n",
            "9\n",
            "10\n"
          ]
        }
      ]
    },
    {
      "cell_type": "markdown",
      "source": [
        "#13. If you had a function named bacon() inside a module named spam, how would you call it after importing spam?\n",
        "\n",
        "This function can be called with spam. bacon()."
      ],
      "metadata": {
        "id": "W_dxs6RNV8-Z"
      }
    }
  ]
}